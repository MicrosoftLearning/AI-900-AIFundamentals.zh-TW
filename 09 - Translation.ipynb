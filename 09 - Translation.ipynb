{
  "cells": [
    {
      "cell_type": "markdown",
      "source": [
        "# 翻譯\r\n",
        "\r\n",
        "與其他人交流的能力是使人類文明得以發展的驅動力之一。在多數人的努力嘗試中，交流是關鍵。\r\n",
        "\r\n",
        "![一個掌握多種語言的傀儡程式](./images/translation.jpg)\r\n",
        "\r\n",
        "人工智慧 (AI) 能透過翻譯不同語言間的文字或語音協助簡化交流，還能協助打破跨越國家/地區和文化的交流屏障。\r\n",
        "\r\n",
        "## 建立認知服務資源\r\n",
        "\r\n",
        "在 Azure 中，您可以使用認知服務在多個語言間的進行翻譯。\r\n",
        "\r\n",
        "如果您還沒有該資源，請使用以下步驟在您的 Azure 訂用帳戶中建立一個**認知服務**資源：\r\n",
        "\r\n",
        "> **備註**：若您已經有認知服務資源，只需在 Azure 入口網站中開啟其 **[快速入門]**頁面並將其金鑰和端點複製到下面的儲存格。否則，可追隨下面的步驟來建立一個認知服務資源。\r\n",
        "\r\n",
        "1.在其它瀏覽器索引標籤中，透過 https://portal.azure.com 開啟 Azure 入口網站，並用您的 Microsoft 帳戶登入。\r\n",
        "2.按一下 **[&#65291; 建立資源]** 按鈕，搜尋*認知服務*，並建立包含以下設定的**認知服務**資源：\r\n",
        "    - **訂用帳戶**： *您的 Azure 訂用帳戶*。 \r\n",
        "    - **資源群組**： *選取或建立具有唯一名稱的資源群組*。 \r\n",
        "    - **區域**： *選擇任一可用區域*： \r\n",
        "    - **名稱**： *輸入唯一名稱*。 \r\n",
        "    - **定價層** ：S0\r\n",
        "    - **我確認已閱讀通知並理解通知內容**： 已選取。\r\n",
        "3.等待部署完成。然後前往您的認知服務資源，在 **[概觀]** 頁面上，按一下連結以管理服務金鑰。您將需要端點和金鑰，以便從用戶端應用程式連線到您的認知服務資源。\r\n",
        "\r\n",
        "### 獲取適用於認知服務資源的金鑰和位置\r\n",
        "\r\n",
        "若要使用您的認知服務資源，用戶端應用程式需要其驗證金鑰和位置：\r\n",
        "\r\n",
        "1.在 Azure 入口網站中，您的認知服務資源之 **[金鑰和端點]** 頁面上，複製您的資源之**金鑰 1**並將其貼上到下面的程式碼，取代 **YOUR_COG_KEY**。\r\n",
        "2.為您的資源複製**位置**並將其貼上到下方程式碼中，取代 **YOUR_COG_LOCATION**。\r\n",
        ">**備註**：留在 **[金鑰和端點]** 頁面並從此頁面複製**位置**(範例：_westus_)。請 _勿_ 在 [位置] 欄位的文字之間增加空格。 \r\n",
        "3.透過按一下儲存格左側的 **[執行儲存格]** (&#9655;) 按鈕執行下方程式碼。"
      ],
      "metadata": {}
    },
    {
      "cell_type": "code",
      "source": [
        "cog_key = 'YOUR_COG_KEY'\n",
        "cog_location = 'YOUR_COG_LOCATION'\n",
        "\n",
        "print('Ready to use cognitive services in {} using key {}'.format(cog_location, cog_key))"
      ],
      "outputs": [],
      "execution_count": null,
      "metadata": {
        "gather": {
          "logged": 1599695377020
        }
      }
    },
    {
      "cell_type": "markdown",
      "source": [
        "## 翻譯文字\r\n",
        "\r\n",
        "顧名思義，**翻譯文字**服務可以讓您將文字從一種語言翻譯為另一種語言。\r\n",
        "\r\n",
        "沒有適用於此服務的 Python SDK，但您可以使用它的 REST 介面透過 HTTP 向端點提交要求，這在 Python 中透過使用**要求**程式庫相對容易操作。關於待翻譯文字和產生的已翻譯文字之資訊以 JSON 格式交換。\r\n",
        "\r\n",
        "執行下列儲存格以建立執行此操作的函式，然後用一個從英文到法文的簡單翻譯來測試此函式。"
      ],
      "metadata": {}
    },
    {
      "cell_type": "code",
      "source": [
        "# Create a function that makes a REST request to the Text Translation service\r\n",
        "def translate_text(cog_location, cog_key, text, to_lang='fr', from_lang='en'):\n",
        "    import requests, uuid, json\n",
        "\n",
        "    # Create the URL for the Text Translator service REST request\n",
        "    path = 'https://api.cognitive.microsofttranslator.com/translate?api-version=3.0'\n",
        "    params = '&from={}&to={}'.format(from_lang, to_lang)\n",
        "    constructed_url = path + params\n",
        "\n",
        "    # Prepare the request headers with Cognitive Services resource key and region\n",
        "    headers = {\n",
        "        'Ocp-Apim-Subscription-Key': cog_key,\n",
        "        'Ocp-Apim-Subscription-Region':cog_location,\n",
        "        'Content-type': 'application/json',\n",
        "        'X-ClientTraceId': str(uuid.uuid4())\n",
        "    }\n",
        "\n",
        "    # Add the text to be translated to the body\n",
        "    body = [{\n",
        "        'text': text\n",
        "    }]\n",
        "\n",
        "    # Get the translation\n",
        "    request = requests.post(constructed_url, headers=headers, json=body)\n",
        "    response = request.json()\n",
        "    return response[0][\"translations\"][0][\"text\"]\n",
        "\n",
        "\n",
        "# Test the function\r\n",
        "text_to_translate = \"Hello\"\n",
        "\n",
        "translation = translate_text(cog_location, cog_key, text_to_translate, to_lang='fr', from_lang='en')\n",
        "print('{} -> {}'.format(text_to_translate,translation))"
      ],
      "outputs": [],
      "execution_count": null,
      "metadata": {
        "gather": {
          "logged": 1599695393341
        }
      }
    },
    {
      "cell_type": "markdown",
      "source": [
        "此服務應將英文文字 \"Hello\" 翻譯為法文 \"Bonjour\"。\r\n",
        "\r\n",
        "注意，這些語言透過使用語言縮寫標準體系來指定，*en* 表示英文，*fr* 表示法文。您也可以使用包含特定文化的縮寫，當同一語言用於不同地理區域時 (通常拼字不同)，這類縮寫較為實用。例如 *en-US* 代表美式英文,而 *en-GB* 表示英式英文。\r\n",
        "\r\n",
        "執行下列儲存格，以便在英式英文和義大利文間進行翻譯。"
      ],
      "metadata": {}
    },
    {
      "cell_type": "code",
      "source": [
        "text_to_translate = \"Hello\"\n",
        "\n",
        "translation = translate_text(cog_location, cog_key, text_to_translate, to_lang='it-IT', from_lang='en-GB')\n",
        "print('{} -> {}'.format(text_to_translate,translation))"
      ],
      "outputs": [],
      "execution_count": null,
      "metadata": {
        "gather": {
          "logged": 1599695400335
        }
      }
    },
    {
      "cell_type": "markdown",
      "source": [
        "讓我們嘗試另一種翻譯 - 這次將美式英文翻譯為中文。"
      ],
      "metadata": {}
    },
    {
      "cell_type": "code",
      "source": [
        "text_to_translate = \"Hello\"\n",
        "\n",
        "translation = translate_text(cog_location, cog_key, text_to_translate, to_lang='zh-CN', from_lang='en-US')\n",
        "print('{} -> {}'.format(text_to_translate,translation))"
      ],
      "outputs": [],
      "execution_count": null,
      "metadata": {
        "gather": {
          "logged": 1599695403076
        }
      }
    },
    {
      "cell_type": "markdown",
      "source": [
        "## 語音翻譯\r\n",
        "\r\n",
        "您可以使用**語音**服務以翻譯語音語言。\r\n",
        "\r\n",
        "現在您可以執行下列儲存格以建立和測試使用語音 SDK 翻譯聲音語音的函式。"
      ],
      "metadata": {}
    },
    {
      "cell_type": "code",
      "source": [
        "# 建立函數，以便將一種語言的音訊翻譯為另一種語言的文字\r\n",
        "def translate_speech(cog_location, cog_key, audio_file=None, to_lang='fr-FR', from_lang='en-US'):\n",
        "    from azure.cognitiveservices.speech import SpeechConfig, AudioConfig, ResultReason\n",
        "    from azure.cognitiveservices.speech.translation import SpeechTranslationConfig, TranslationRecognizer\n",
        "\n",
        "    # Configure the speech translation service\n",
        "    translation_config = SpeechTranslationConfig(subscription=cog_key, region=cog_location)\n",
        "    translation_config.speech_recognition_language = from_lang\n",
        "    translation_config.add_target_language(to_lang)\n",
        "\n",
        "    # Configure audio input\n",
        "    if audio_file is None:\n",
        "        audio_config = AudioConfig() # Use default input (microphone)\n",
        "    else:\n",
        "        audio_config = AudioConfig(filename=audio_file) # Use file input\n",
        "\n",
        "    # Create a translation recognizer and use it to translate speech input\n",
        "    recognizer = TranslationRecognizer(translation_config, audio_config)\n",
        "    result = recognizer.recognize_once()\n",
        "\n",
        "    # Did we get it?\n",
        "    translation = ''\n",
        "    speech_text = ''\n",
        "    if result.reason == ResultReason.TranslatedSpeech:\n",
        "        speech_text = result.text\n",
        "        translation =  result.translations[to_lang]\n",
        "    elif result.reason == ResultReason.RecognizedSpeech:\n",
        "        speech_text = result.text\n",
        "        translation =  'Unable to translate speech'\n",
        "    else:\n",
        "        translation = 'Unknown'\n",
        "        speech_text = 'Unknown'\n",
        "\n",
        "    # rturn the translation\n",
        "    return speech_text, translation\n",
        "    \n",
        "\n",
        "# Test the function\r\n",
        "import os\n",
        "\n",
        "file_name = 'english.wav'\n",
        "file_path = os.path.join('data', 'translation', file_name)\n",
        "speech, translated_speech = translate_speech(cog_location, cog_key, file_path, to_lang='es', from_lang='en-US')\n",
        "result = '{} -> {}'.format(speech, translated_speech)\n",
        "\n",
        "# Show translated text\r\n",
        "print(result)"
      ],
      "outputs": [],
      "execution_count": null,
      "metadata": {
        "gather": {
          "logged": 1599695532629
        }
      }
    },
    {
      "cell_type": "markdown",
      "source": [
        "注意，必須使用 2 個字元的語言程式碼來識別目標語言 (例如 *en*)，而源語言必須包括文化指示 (例如 *en-US*)。\r\n",
        "\r\n",
        "讓我們嘗試將法文翻譯為英文。"
      ],
      "metadata": {}
    },
    {
      "cell_type": "code",
      "source": [
        "import os\n",
        "\n",
        "file_name = 'french.wav'\n",
        "file_path = os.path.join('data', 'translation', file_name)\n",
        "speech, translated_speech = translate_speech(cog_location, cog_key, file_path, to_lang='en', from_lang='fr-FR')\n",
        "result = '{} -> {}'.format(speech, translated_speech)\n",
        "\n",
        "# Show translated text\r\n",
        "print(result)"
      ],
      "outputs": [],
      "execution_count": null,
      "metadata": {
        "gather": {
          "logged": 1599695542192
        }
      }
    },
    {
      "cell_type": "markdown",
      "source": [
        "## 了解更多資訊\r\n",
        "\r\n",
        "您可以在服務文件中了解關於[翻譯工具文字](https://docs.microsoft.com/azure/cognitive-services/translator/)和[使用語音服務翻譯](https://docs.microsoft.com/azure/cognitive-services/speech-service/index-speech-translation)的更多資訊。"
      ],
      "metadata": {}
    }
  ],
  "metadata": {
    "language_info": {
      "name": "python",
      "version": "3.6.0-final",
      "mimetype": "text/x-python",
      "codemirror_mode": {
        "name": "ipython",
        "version": 3
      },
      "pygments_lexer": "ipython3",
      "nbconvert_exporter": "python",
      "file_extension": ".py"
    },
    "kernelspec": {
      "name": "python360jvsc74a57bd0aab07c05e18e3fae3dc841dc401f8bbd0373bf54f494cf150722bab0ea91cfef",
      "display_name": "Python 3.6.0 64-bit"
    },
    "kernel_info": {
      "name": "python3-azureml"
    },
    "nteract": {
      "version": "nteract-front-end@1.0.0"
    }
  },
  "nbformat": 4,
  "nbformat_minor": 2
}