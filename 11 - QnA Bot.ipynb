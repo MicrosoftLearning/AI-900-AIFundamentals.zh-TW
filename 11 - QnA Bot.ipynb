{
  "cells": [
    {
      "cell_type": "markdown",
      "source": [
        "# 交談 AI\r\n",
        "\r\n",
        "思考一下，您透過立即訊息、社交媒體、電子郵件或其它線上技術與其他人進行交流的頻率。對大多數人而言，這是我們尋求交流的方式。當您在工作上遇到問題，您也許能使用聊天訊息與同事聯絡，您也可以在行動裝置上使用該聊天訊息，以便隨時保持聯絡。\r\n",
        "\r\n",
        "![人類與機器人的對話](./images/conversational_ai.jpg)\r\n",
        "\r\n",
        "Bot 是使用這類通道進行對話的 AI 代理程式，啟用了自然式對話的業務開發和軟體服務。\r\n",
        "\r\n",
        "## 建立 QnA Maker 知識庫\r\n",
        "\r\n",
        "對於客戶支援案例，通常會建立一個可以透過網站聊天視窗、電子郵件或語音介面解釋和回答常見問題集的 Bot。Bot 介面之下是問題和適當答案之知識庫，可供 Bot 搜尋適當回應。\r\n",
        "\r\n",
        "QnA Maker 服務是 Azure 中的一項認知服務，該服務使您可以透過輸入問答配對或從現有文件或網頁中快速建立知識庫。然後，它可以使用一些內嵌式自然語言處理功能來解釋問題並找到適當的答案。\r\n",
        "\r\n",
        "1. 打開其它瀏覽器索引標籤並透過 https://qnamaker.ai 前往 QnA Maker 入口網站。請使用與您的 Azure 訂閱關聯的 Microsoft 帳戶登入。\r\n",
        "2. 在 QnA Maker 入口網站中，請選取 **[建立知識庫]**。\r\n",
        "3. 如果您以前未建立 QnA 服務資源，請選取 **[建立 QnA 服務]**。Azure 入口網站將在另一個索引標籤中打開，因此您可以在訂閱中建立 QnA Maker 服務。使用以下設定：\r\n",
        "   \r\n",
        "   - **訂用帳戶**： *您的 Azure 訂用帳戶*\r\n",
        "   - **資源群組**： *選取現有的資源群組或建立新的資料群組*\r\n",
        "   - **名稱**： *您的 QnA 資源之唯一名稱*\r\n",
        "   - **定價層**：F0\r\n",
        "   - **Azure 搜尋定價層**：F\r\n",
        "   - **Azure 搜尋位置**： *任何可用位置*\r\n",
        "   - **應用程式名稱**：_與**名稱**一致 (\".azurewebsites.net” 將自動附加)_\r\n",
        "   - **網站位置**：_與 **Azure 搜尋位置**_一致\r\n",
        "   - **應用程式深入解析**：停用\r\n",
        "\r\n",
        "> **備註**：如果您已經建置了免費層 **QnA Maker**或 **Azure 搜尋**資源，您的配額可能不允許您建立另一個配額。在這種狀況下，選取 **F0 / F**之外的其它層。\r\n",
        "\r\n",
        "4. 等待 QnA 服務和相關資源的部署在 Azure 入口網站中完成。\r\n",
        "5. 退回到 QnA Maker 入口網站索引標籤，然後在**步驟 2**區段中，按一下 **[重新整理]** 以重新整理可用的 QnA 服務資源清單。\r\n",
        "6. 透過選取以下選項，將您的 QnA 服務連接到您的知識庫：\r\n",
        "  - **Microsoft Azure 目錄識別碼**： *您的訂閱之 Azure 目錄識別碼*\r\n",
        "  - **Azure 訂閱名稱**： *您的 Azure 訂閱*\r\n",
        "  - **Azure QnA 服務**： *您在上一個步驟中建立的 QnA 服務資源*\r\n",
        "  - **語言**：英文\r\n",
        "\r\n",
        "### (!)簽入\r\n",
        "如果顯示了角色無權限執行操作的訊息指示，請重新整理 QnA Maker 入口網站的瀏覽器頁面。\r\n",
        "\r\n",
        "7. 在**步驟 3**區段，請輸入名稱 **Margie's Travel KB**。\r\n",
        "8. 在**步驟 4** 區段，在 **URL** 方塊中，鍵入 *https://github.com/MicrosoftLearning/mslearn-ai900/raw/main/data/qna_bot/margies_faq.docx* 並按一下 **[+ 新增 URL]**。在 **[閒聊]** 下，選取 **[專業]**。\r\n",
        "9. 在**步驟 5** 區段，按一下 **[建立知識庫]**。\r\n",
        "10. 在建立您的知識庫時，請稍等片刻。然後檢閱已從常見問題集文件中匯入的問題和答案以及專業的閒聊預先定義回應。\r\n"
      ],
      "metadata": {}
    },
    {
      "cell_type": "markdown",
      "source": [
        "## 編輯知識庫\r\n",
        "\r\n",
        "您的知識庫以常見問題集文件中的詳細資料和一些預先定義的回應為基礎。您可以添加自訂問答配對來補充這些內容。\r\n",
        "\r\n",
        "1. 按一下 **[+ 新增 QnA 配對]**。\r\n",
        "2. 在 **[問題]** 方塊中，鍵入 `Hello`。然後按一下 **[+ 新增不同說法]** 並鍵入 `Hi`。\r\n",
        "3. 在 **[回答]** 方塊中，鍵入 `Hello`。\r\n",
        "\r\n",
        "## 訓練並測試知識庫\r\n",
        "\r\n",
        "既然您擁有知識庫，就可以在 QnA Maker 入口網站測試知識庫。\r\n",
        "\r\n",
        "1. 在頁面的右上角，按一下 **[儲存並訓練]** 以便訓練您的知識庫。您可能需要更改視窗的大小才能看到該按鈕。\r\n",
        "2. 訓練完成後，請按一下 **[&larr; 測試]** 以打開測試窗格。\r\n",
        "3. 在測試窗格底部輸入訊息 *Hi*。應退回回應 **Hello**。\r\n",
        "4. 在測試窗格底部輸*入訊息我想預定航班*。應該從常見問題集中退回適當的回應。\r\n",
        "5. 完成知識庫測試之後，按一下 **[&rarr; 測試]** 以關閉測試窗格。\r\n"
      ],
      "metadata": {}
    },
    {
      "cell_type": "markdown",
      "source": [
        "## 為知識庫建立 Bot。\r\n",
        "\r\n",
        "知識庫提供了後端服務，用戶端應用程式可以使用該後端服務透過某種用戶介面來回答問題。通常，這些用戶端應用程式是 Bot。為了使知識庫可用於 Bot，您必須將知識庫發佈為可以透过 HTTP 訪問的服務。然後，您可以使用 Azure Bot Service 建立並託管一個使用知識庫來回答用戶問題的 Bot。\r\n",
        "\r\n",
        "1. 在 QnA Make 頁面的頂部，按一下 **[發佈]**。然後在 **Margies Travel KB** 頁面，按一下 **[發佈]**。\r\n",
        "2. 服務部署好之後，按一下 **[建立 Bot]**。這將在新的瀏覽器索引標籤中打開 Azure 入口網站，以便您可以在 Azure 訂閱中建立 Web 應用程式 Bot。\r\n",
        "3. 在 Azure 入口網站中，透過以下設定建立 Web 應用程式 Bot (大多數設定將會為您預先填入)：\r\n",
        "  - **Bot 控制代碼**： *您的 Bot 之唯一名稱*\r\n",
        "  - **訂用帳戶**： *您的 Azure 訂用帳戶*\r\n",
        "  - **資源群組**： *包含您的 QnA Maker 資源的資源組*\r\n",
        "  - **位置**： *與您的 QnA Maker 服務位置相同*。\r\n",
        "  - **定價層**：F0\r\n",
        "  - **應用程式名稱**： *與自動附加.azurewebsites.net* 的 **Bot控制代碼** 相同\r\n",
        "  - **SDK 語言**： *選擇 C# 語言或 Node.js 語言*\r\n",
        "  - **QnA 授權金鑰**: *該金鑰應該自動設定為您的 QnA 知識庫之驗證金鑰*\r\n",
        "  - **App Service 方案/位置**： *該方案/位置應該自動設定為適當的方案和位置*\r\n",
        "  **Application Insights**：關\r\n",
        "  - **Microsoft App ID 和密碼**：自動建立 App ID 和密碼。\r\n",
        "4. 等待您的 Bot 建立 (等待時會在右上方顯示通知圖示，該圖示看起來像個鈴鐺)。然後，在已完成部署的通知中，按一下 **[轉到資源]** (或者在首頁上，按一下 **[資源群組]**，打開已經在其中建立了 Web 應用程式 Bot 的資源群組，然後按一下這個資源群組。)\r\n",
        "5. 在 Bot 的左側窗格中查找 **[設定]**，按一下 **[在網路聊天中測試]**，然後等待，直到 Bot 顯示訊息**您好和歡迎！**(這可能需要幾秒鐘來初始化)。\r\n",
        "6. 使用測試聊天介面，確保您的 Bot 按照預想回答知識庫中的問題。例如，嘗試提交*我要取消酒店*。\r\n"
      ],
      "metadata": {}
    },
    {
      "cell_type": "markdown",
      "source": [
        "## 透過通道存取 Bot\r\n",
        "\r\n",
        "透過一個或多*個通道*，Bot 可用於為用戶提供介面。例如，同一個 Bot 可以透過網路聊天介面、電子郵件和 Microsoft Teams 支援互動。\r\n",
        "\r\n",
        "1. 在 Bot 的左側窗格中，找到 **[設定]**，然後按一下 **[通道]**。\r\n",
        "2. 請注意，已經自動新增了**網路聊天**通道，並且其他用於常用通訊平台的通道亦可使用。\r\n",
        "3. 在**網路聊天**通道旁邊，按一下 **[編輯]**。這樣將打開一個頁面，其中包含將 Bot 內嵌到網頁所需的設置。若要內嵌 Bot，您需要提供 HTML 內嵌程式碼並為您的 Bot 生成祕密金鑰之中的一個金鑰。\r\n",
        "4. 複製內**嵌程式碼**並將其貼上到下面的儲存格中，取代留言 `<!-- EMBED CODE GOES HERE -->`。\r\n",
        "5. 為您的其中一個祕密金鑰 (無論哪一個均可) 按一下 **[顯示]**，並複製這個金鑰。然後，將這個金鑰貼上到下面的 HTML 內嵌程式碼中，取代 `YOUR_SECRET_HERE`。\r\n",
        "6. 將 HTML 程式碼中的**最小高度**值更改為 **200px** (而不是預設的 500px)。這樣將有助於確保 HTML 介面無需捲動即可見。\r\n",
        "7. 透過按一下儲存格左側的 **[執行儲存格]** (&#9655;) 按鈕來執行下面的儲存格以轉譯 HTML。\r\n",
        "8. 在 HTML 聊天介面中，透過提交問題來測試 Bot (例如，*誰是瑪姬？* 或*者我可以前往哪些目的地？* (Bot 初始化時，除了回答您的問題外，它可能還會回應訊息您好和*歡迎*)"
      ],
      "metadata": {}
    },
    {
      "cell_type": "code",
      "execution_count": null,
      "source": [
        "%%html\r\n",
        "\r\n",
        "<!-- EMBED CODE GOES HERE -->"
      ],
      "outputs": [],
      "metadata": {}
    },
    {
      "cell_type": "markdown",
      "source": [
        "試用 Bot。您可能會發現它可以非常準確地回答常見問題集中的問題，但是對於其未接受過訓練的問題，Bot 對這類問題的解釋能力有限。您可以一直使用 QnA Maker 入口網站來編輯知識庫以便對其進行改進，然後將知識庫重新發布。\r\n",
        "\r\n",
        "## 瞭解更多資訊\r\n",
        "\r\n",
        "- 若要瞭解關於 QnA Maker 服務的更多資訊，請檢視 [the QnA Maker documentation](https://docs.microsoft.com/azure/cognitive-services/qnamaker/)。\r\n",
        "- 若要瞭解關於 Microsoft Bot Service 的更多資訊，請檢視 [the Azure Bot Service page](https://azure.microsoft.com/services/bot-service/)。"
      ],
      "metadata": {}
    }
  ],
  "metadata": {
    "language_info": {
      "name": "python",
      "version": "3.6.9",
      "mimetype": "text/x-python",
      "codemirror_mode": {
        "name": "ipython",
        "version": 3
      },
      "pygments_lexer": "ipython3",
      "nbconvert_exporter": "python",
      "file_extension": ".py"
    },
    "kernelspec": {
      "name": "python3-azureml",
      "language": "python",
      "display_name": "Python 3.6 - AzureML"
    },
    "kernel_info": {
      "name": "python3-azureml"
    },
    "nteract": {
      "version": "nteract-front-end@1.0.0"
    }
  },
  "nbformat": 4,
  "nbformat_minor": 2
}