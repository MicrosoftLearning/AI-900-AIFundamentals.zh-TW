{
  "cells": [
    {
      "cell_type": "markdown",
      "source": [
        "# 影像分類\r\n",
        "\r\n",
        "*電腦視覺*認知服務提供實用的預建模型以便使用影像工作，但是您需要經常訓練自己的電腦視覺模型。例如，假設 Northwind Traders 零售公司想要建立自動化結帳系統，該系統能夠依據相機在付款臺所拍攝的影像來識別客戶想要購買的雜貨店商品。為此，您需要訓練分類模型，該模型可以分類影像以識別正在購買的商品。\r\n",
        "\r\n",
        "![一個傀儡程式拿著剪貼簿，分類蘋果、香蕉和柳橙的圖片](./images/image-classification.jpg)\r\n",
        "\r\n",
        "在 Azure 中，您可以使用***自訂視覺***認知服務在現有影像的基礎上來訓練影像分類模型。可以建立影像分類解決方案的元素有兩種。首先，您必須使用現有影像來訓練模型以識別不同的類別。然後，當模型訓練完成時，您必須將其發佈為能夠由應用程式使用的服務。\r\n",
        "\r\n",
        "## 建立自訂視覺資源\r\n",
        "\r\n",
        "若要使用自訂視覺服務，您需要可以用來*訓練*模型的 Azure 資源，以及可以*發佈*以供應用程式使用的資源。一項 (或者兩項) 工作的資源可以是一般性**認知服務**資源，或特定的**自訂視覺**資源。您可以將相同的認知服務資源用於這些工作中的每一項工作，或者您可以將不同的資源 (位於同一區域) 用於每項工作，以便分別管理成本。\r\n",
        "\r\n",
        "使用以下指示來建立全新**自訂視覺**資源。\r\n",
        "\r\n",
        "1. 在新的瀏覽器索引標籤中，透過 [https://portal.azure.com](https://portal.azure.com) 開啟 Azure 入口網站，並使用與您的 Azure 訂用帳戶關聯的 Microsoft 帳戶登入。\r\n",
        "2. 選取 **[&#65291; 建立資源]** 按鈕，搜尋*自訂視覺*，並建立包含以下設定的**自訂視覺**資源：\r\n",
        "    - **建立選項**： 兩個\r\n",
        "    - **訂用帳戶**： *您的 Azure 訂用帳戶* \r\n",
        "    - **資源群組**： *選取或建立具有唯一名稱的資源群組* \r\n",
        "    - **名稱**： *輸入唯一名稱* \r\n",
        "    - **訓練位置**： *選擇任一可用區域* \r\n",
        "    - **訓練定價層**： F0\r\n",
        "    - **預測位置**： *與訓練資源位於同一區域* \r\n",
        "    - **預測定價層**： F0\r\n",
        "\r\n",
        "    > **備註**： 若您的訂用帳戶中已經有 F0 自訂視覺服務，請為這一個選取 **[S0]**。 \r\n",
        "\r\n",
        "3. 等待資源建立，注意建置兩個自訂視覺資源，一個用於訓練，另一個用於預測。您可以透過導覽到建立它們的資源群組來檢視這些資源。\r\n",
        "\r\n",
        "## 建立自訂視覺專案\r\n",
        "\r\n",
        "要訓練物件偵測模型，您需要以訓練資源為基礎建立自訂視覺專案。為此，您將使用自訂視覺入口網站。\r\n",
        "\r\n",
        "1. 從 https://aka.ms/fruit-images 中下載並擷取訓練影像。**注意：** 作為臨時解決辦法，如果您無法存取訓練影像，請前往 https://www.github.com，然後前往 https://aka.ms/fruit-images。  \r\n",
        "2. 在其它瀏覽器索引標籤中，透過 [https://customvision.ai](https://customvision.ai) 開啟自訂視覺入口網站。若出現提示，請使用與您的 Azure 訂用帳戶關聯的 Microsoft 帳戶登入並同意服務條款。\r\n",
        "3. 在自訂視覺入口網站，建立一個包含以下設定的新專案：\r\n",
        "    - **名稱**： Grocery Checkout\r\n",
        "    - **描述**： 雜貨店影像分類\r\n",
        "    - **資源**： *先前建立的自訂視覺資源* \r\n",
        "    - **專案類型**： 分類\r\n",
        "    - **分類類型**： 多類別 (每個影像一個標記)\r\n",
        "    - **網域**： 食物\r\n",
        "4. 按一下 **\\[+\\] [新增影像]**，並選取先前已擷取的**蘋果**資料夾中的所有檔案。然後上傳影像檔案，指定*蘋果*標記，如下所示：\r\n",
        "\r\n",
        "![上傳帶有蘋果標記的蘋果](./images/upload_apples.jpg)\r\n",
        "   \r\n",
        "5. 重複上一個步驟以便上傳**香蕉**資料夾中帶有*香蕉*標記的影像，以及**柳橙**資料夾中帶有*柳橙*標記的影像。\r\n",
        "6. 瀏覽您已經在自訂視覺專案中上傳的影像，每個類別應該有 15 個影像，如下所示：\r\n",
        "\r\n",
        "![已標記的水果影像，15 個蘋果、15 個香蕉和 15 個柳橙](./images/fruit.jpg)\r\n",
        "    \r\n",
        "7. 在自訂視覺專案中，影像的上方，按一下 **[訓練]** 以使用已標記的影像訓練分類模型。選取 **[快速訓練]**選項，然後等待訓練反覆運算完成 (這可能需要一分鐘左右)。\r\n",
        "8. 當模型反覆運算已經完成訓練，檢閱*精確度*、*重新叫用*和 *AP*效能計量，這些計量測量分類模型的預測正確性，各項計量應該都較高。\r\n",
        "\r\n",
        "## 測試模型\r\n",
        "\r\n",
        "在發佈此模型的反覆運算以供應用程式使用之前，您應該對其進行測試。\r\n",
        "\r\n",
        "1.在效能計量上方，按一下 **[快速測試]**。\r\n",
        "2. 在 **[影像 URL]** 方塊中，鍵入`https://aka.ms/apple-image` 並按一下 &#10132;\r\n",
        "3. 檢視您的模型退回的預測，*蘋果*的可能性分數應該是最高的，如下所示：\r\n",
        "\r\n",
        "![具有蘋果類別預測的影像](./images/test-apple.jpg)\r\n",
        "\r\n",
        "4. 關閉 **[快速測試]**視窗。\r\n",
        "\r\n",
        "## 發佈並使用影像分類模型\r\n",
        "\r\n",
        "現在，您可以準備發佈已訓練的模型，還可以從用戶端應用程式中使用該模型。\r\n",
        "\r\n",
        "9. 按一下 **[&#128504; 發佈]** 以發佈包含以下設定的已訓練模型：\r\n",
        "    - **模型名稱**： groceries\r\n",
        "    - **預測資源**： *先前已建立的預測資源*。 \r\n",
        "\r\n",
        "### (!)簽入 \r\n",
        "您是否使用了相同的模型名稱：**groceries**？ \r\n",
        "\r\n",
        "10. 發佈後，在 **[效能]** 頁面右上方按一下設定 *(&#9881;)* 圖示，以檢視專案設定。然後，在 **[一般]** 下 (在左側)，複製**專案識別碼**。向下捲動並將其貼上到步驟 13 下面的程式碼儲存格中，取代 **YOUR_PROJECT_ID**。\r\n",
        "\r\n",
        "![專案設定中的專案識別碼](./images/cv_project_settings.jpg)\r\n",
        "\r\n",
        "> _**備註**：如果您在本次練習開始時使用了*認知服務*資源，而不是建立**自訂視覺**資源，則可以從專案設定的右側複製其金鑰和端點，將其貼上到下面的程式碼儲存格中，然後執行該資源以查看結果。否則，請繼續完成以下步驟以獲取自訂視覺預測資源的金鑰和端點。_\r\n",
        "\r\n",
        "11. 在 **[專案設定]** 頁面的左上方，按一下*專案資源庫*(&#128065;) 圖示以退回到自訂視覺入口網站首頁，現在您的專案已在其中列出。\r\n",
        "\r\n",
        "12. 在自訂視覺入口網站首頁的右上方，按一下*設定*(&#9881;) 圖示以檢視自訂視覺服務的設定。然後，在**資源**下方，展開您**的預測**資源 (<u>而非</u>訓練資源) 並將其**金鑰**和**端點**值複製到步驟 13 下面的程式碼儲存格，取代 **YOUR_KEY** 和 **YOUR_ENDPOINT**。\r\n",
        "\r\n",
        "### (!)簽入 \r\n",
        "若您使用的是**自訂視覺**資源，您是否使用*了預測*資源 (<u>而非</u> 訓練資源)？\r\n",
        "\r\n",
        "![自訂視覺設定中的預測資源和金鑰](./images/cv_settings.jpg)\r\n",
        "\r\n",
        "13. 透過按一下 **[執行儲存格]**(&#9655;) 按鈕 (位於儲存格左側) 執行下面的程式碼儲存格來為您的專案識別碼、金鑰和端點值設定變數。"
      ],
      "metadata": {}
    },
    {
      "cell_type": "code",
      "execution_count": null,
      "source": [
        "project_id = 'YOUR_PROJECT_ID'\r\n",
        "cv_key = 'YOUR_KEY'\r\n",
        "cv_endpoint = 'YOUR_ENDPOINT'\r\n",
        "\r\n",
        "model_name = 'groceries' # this must match the model name you set when publishing your model iteration (it's case-sensitive)!\r\n",
        "print('Ready to predict using model {} in project {}'.format(model_name, project_id))"
      ],
      "outputs": [],
      "metadata": {
        "gather": {
          "logged": 1599691949340
        }
      }
    },
    {
      "cell_type": "markdown",
      "source": [
        "現在，您可以將金鑰和端點與自訂視覺用戶端一起使用，以連接到您的自訂視覺分類模型。\r\n",
        "\r\n",
        "執行以下程式碼儲存格以便使用已發佈的模型分類測試影像的選取範圍。\r\n",
        "\r\n",
        "> **備註**：請勿過於擔心程式碼的詳細資料。程式碼使用適用於 Python 的電腦視覺 SDK 來獲取針對 /data/image-classification/test-fruit 資料夾中的每個影像之類別預測。"
      ],
      "metadata": {}
    },
    {
      "cell_type": "code",
      "execution_count": null,
      "source": [
        "from azure.cognitiveservices.vision.customvision.prediction import CustomVisionPredictionClient\r\n",
        "from msrest.authentication import ApiKeyCredentials\r\n",
        "import matplotlib.pyplot as plt\r\n",
        "from PIL import Image\r\n",
        "import os\r\n",
        "%matplotlib inline\r\n",
        "\r\n",
        "# Get the test images from the data/vision/test folder\r\n",
        "test_folder = os.path.join('data', 'image-classification', 'test-fruit')\r\n",
        "test_images = os.listdir(test_folder)\r\n",
        "\r\n",
        "# Create an instance of the prediction service\r\n",
        "credentials = ApiKeyCredentials(in_headers={\"Prediction-key\": cv_key})\r\n",
        "custom_vision_client = CustomVisionPredictionClient(endpoint=cv_endpoint, credentials=credentials)\r\n",
        "\r\n",
        "# Create a figure to display the results\r\n",
        "fig = plt.figure(figsize=(16, 8))\r\n",
        "\r\n",
        "# Get the images and show the predicted classes for each one\r\n",
        "print('Classifying images in {} ...'.format(test_folder))\r\n",
        "for i in range(len(test_images)):\r\n",
        "    # Open the image, and use the custom vision model to classify it\r\n",
        "    image_contents = open(os.path.join(test_folder, test_images[i]), \"rb\")\r\n",
        "    classification = custom_vision_client.classify_image(project_id, model_name, image_contents.read())\r\n",
        "    # The results include a prediction for each tag, in descending order of probability - get the first one\r\n",
        "    prediction = classification.predictions[0].tag_name\r\n",
        "    # Display the image with its predicted class\r\n",
        "    img = Image.open(os.path.join(test_folder, test_images[i]))\r\n",
        "    a=fig.add_subplot(len(test_images)/3, 3,i+1)\r\n",
        "    a.axis('off')\r\n",
        "    imgplot = plt.imshow(img)\r\n",
        "    a.set_title(prediction)\r\n",
        "plt.show()"
      ],
      "outputs": [],
      "metadata": {
        "gather": {
          "logged": 1599692327514
        }
      }
    },
    {
      "cell_type": "markdown",
      "source": [
        "希望您的影像分類模型已正確識別了影像中的雜貨店。\r\n",
        "\r\n",
        "## 了解更多資訊\r\n",
        "\r\n",
        "相比於我們在本練習中已探索的功能，自訂視覺服務可以提供更多功能。例如，您亦可使用自訂視覺服務來建立物件偵測模型**；其不僅可以分類影像中的物件，還能識別在影像中顯示物件位置的周框方塊**。\r\n",
        "\r\n",
        "若要深入了解自訂視覺認知服務，請檢視[自訂視覺文件](https://docs.microsoft.com/azure/cognitive-services/custom-vision-service/home)"
      ],
      "metadata": {}
    }
  ],
  "metadata": {
    "language_info": {
      "name": "python",
      "version": "3.6.9",
      "mimetype": "text/x-python",
      "codemirror_mode": {
        "name": "ipython",
        "version": 3
      },
      "pygments_lexer": "ipython3",
      "nbconvert_exporter": "python",
      "file_extension": ".py"
    },
    "kernelspec": {
      "name": "python3-azureml",
      "language": "python",
      "display_name": "Python 3.6 - AzureML"
    },
    "kernel_info": {
      "name": "python3-azureml"
    },
    "nteract": {
      "version": "nteract-front-end@1.0.0"
    }
  },
  "nbformat": 4,
  "nbformat_minor": 2
}