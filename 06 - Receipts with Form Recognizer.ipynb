{
  "cells": [
    {
      "cell_type": "markdown",
      "source": [
        "# 用表格辨識器分析收據\r\n",
        "\r\n",
        "![一個傀儡程式正持有一份收據](./images/receipt_analysis.jpg)\r\n",
        "\r\n",
        "在電腦視覺的 [人工智慧 (AI)] 欄位中，光學字元辨識 (OCR) 一般用於讀取列印或手寫文件。通常，文字直接從文件中擷取到一種可以用於進一步處理或分析的格式中。\r\n",
        "\r\n",
        "詳細的進階 OCR 案例是從表單 (例如購買訂單或發票) 中擷取資訊，並且提供對表單中欄位所代表含義的語意理解。**表格辨識器**服務是為這類 AI 問題特別設計的。\r\n",
        "\r\n",
        "## 檢視收據\r\n",
        "\r\n",
        "在此範例中，您可以使用表格辨識器的內建模型來分析收據。\r\n",
        "\r\n",
        "按一下下方 **[執行儲存格]** (&#9655;) 按鈕 (儲存格左側) 以執行儲存格並參閱您將使用表格辨識器分析收據的範例。"
      ],
      "metadata": {}
    },
    {
      "cell_type": "code",
      "source": [
        "import matplotlib.pyplot as plt\n",
        "from PIL import Image\n",
        "import os\n",
        "%matplotlib inline\n",
        "\n",
        "\n",
        "# 載入並顯示收據影像\r\n",
        "fig = plt.figure(figsize=(6, 6))\n",
        "image_path = os.path.join('data', 'form-receipt', 'receipt.jpg')\n",
        "img = Image.open(image_path)\n",
        "plt.axis('off')\n",
        "plt.imshow(img)"
      ],
      "outputs": [],
      "execution_count": null,
      "metadata": {
        "gather": {
          "logged": 1599694427893
        }
      }
    },
    {
      "cell_type": "markdown",
      "source": [
        "## 建立表格辨識器資源\r\n",
        "\r\n",
        "> **備註：**您要麼使用認知服務資源，要麼使用表格辨識器資源來存取表格辨識器服務。 \r\n",
        "\r\n",
        "在您的 Azure 訂用帳戶中建立表格辨識器資源：\r\n",
        "\r\n",
        "1.在其它瀏覽器索引標籤中，透過 https://portal.azure.com 開啟 Azure 入口網站，並用您的 Microsoft 帳戶登入。\r\n",
        "2.選取 **[+ 建立資源]**，並搜尋*表格辨識器*。\r\n",
        "3.在服務清單中，選取 **[表格辨識器]**。\r\n",
        "4.在 **[表格辨識器]** 刀鋒視窗中，選取 **[建立]**。\r\n",
        "5.在 **[建立]**刀鋒視窗中，輸入下列詳細資料並選取 **[建立]**\r\n",
        "   - **名稱**：您的服務之唯一名稱\r\n",
        "   - **訂用帳戶**：您的 Azure 訂用帳戶\r\n",
        "   - **區域**：任一可用區域\r\n",
        "   - **定價層**：F0\r\n",
        "   - **資源群組**：您之前使用過的現有資源群組\r\n",
        "   - **我確認已閱讀下方通知並理解通知內容**：已選取。\r\n",
        "6.等待服務建立。\r\n",
        "7.檢視您在 Azure 入口網站中新建立的表格辨識器服務並在 **[金鑰和端點]** 頁面，複製**金鑰 1** 和**端點**值，然後將他們貼上到下方程式碼儲存格中，取代 **YOUR_FORM_KEY** 和 **YOUR_FORM_ENDPOINT**。"
      ],
      "metadata": {}
    },
    {
      "cell_type": "code",
      "source": [
        "form_key = 'YOUR_FORM_KEY'\n",
        "form_endpoint = 'YOUR_FORM_ENDPOINT'\n",
        "\n",
        "print('Ready to use form recognizer at {} using key {}'.format(form_endpoint, form_key))"
      ],
      "outputs": [],
      "execution_count": null,
      "metadata": {
        "gather": {
          "logged": 1599694505850
        }
      }
    },
    {
      "cell_type": "markdown",
      "source": [
        "## 分析收據\r\n",
        "\r\n",
        "現在您可以準備使用表格辨識器來分析收據。"
      ],
      "metadata": {}
    },
    {
      "cell_type": "code",
      "source": [
        "import os\n",
        "from azure.ai.formrecognizer import FormRecognizerClient\n",
        "from azure.core.credentials import AzureKeyCredential\n",
        "\n",
        "# Create a client for the form recognizer service\r\n",
        "form_recognizer_client = FormRecognizerClient(endpoint=form_endpoint, credential=AzureKeyCredential(form_key))\n",
        "\n",
        "try:\n",
        "    print(\"Analyzing receipt...\")\n",
        "    # Get the receipt image file\n",
        "    image_path = os.path.join('data', 'form-receipt', 'receipt.jpg')\n",
        "\n",
        "    # Submit the file data to form recognizer\n",
        "    with open(image_path, \"rb\") as f:\n",
        "        analyze_receipt = form_recognizer_client.begin_recognize_receipts(receipt=f)\n",
        "    \n",
        "    # Get the results\n",
        "    receipt_data = analyze_receipt.result()\n",
        "\n",
        "    # Print the extracted data for the first (and only) receipt\n",
        "    receipt = receipt_data[0]\n",
        "    receipt_type = receipt.fields.get(\"ReceiptType\")\n",
        "    if receipt_type:\n",
        "        print(\"Receipt Type: {}\".format(receipt_type.value))\n",
        "    merchant_address = receipt.fields.get(\"MerchantAddress\")\n",
        "    if merchant_address:\n",
        "        print(\"Merchant Address: {}\".format(merchant_address.value))\n",
        "    merchant_phone = receipt.fields.get(\"MerchantPhoneNumber\")\n",
        "    if merchant_phone:\n",
        "        print(\"Merchant Phone: {}\".format(merchant_phone.value))\n",
        "    transaction_date = receipt.fields.get(\"TransactionDate\")\n",
        "    if transaction_date:\n",
        "        print(\"Transaction Date: {}\".format(transaction_date.value))\n",
        "    print(\"Receipt items:\")\n",
        "    items = receipt.fields.get(\"Items\")\n",
        "    if items:\n",
        "        for idx, item in enumerate(receipt.fields.get(\"Items\").value):\n",
        "            print(\"\\tItem #{}\".format(idx+1))\n",
        "            item_name = item.value.get(\"Name\")\n",
        "            if item_name:\n",
        "                print(\"\\t - Name: {}\".format(item_name.value))\n",
        "            item_total_price = item.value.get(\"TotalPrice\")\n",
        "            if item_total_price:\n",
        "                print(\"\\t - Price: {}\".format(item_total_price.value))\n",
        "    subtotal = receipt.fields.get(\"Subtotal\")\n",
        "    if subtotal:\n",
        "        print(\"Subtotal: {} \".format(subtotal.value))\n",
        "    tax = receipt.fields.get(\"Tax\")\n",
        "    if tax:\n",
        "        print(\"Tax: {}\".format(tax.value))\n",
        "    total = receipt.fields.get(\"Total\")\n",
        "    if total:\n",
        "        print(\"Total: {}\".format(total.value))\n",
        "\n",
        "except Exception as ex:\n",
        "    print('Error:', ex)\n"
      ],
      "outputs": [],
      "execution_count": null,
      "metadata": {
        "gather": {
          "logged": 1599694525404
        }
      }
    },
    {
      "cell_type": "markdown",
      "source": [
        "注意，表格辨識器能夠解譯表單中的資料，正確識別商家電子郵件地址和電話號碼、交易日期和時間，還有項目行、小計、稅金和總金額。\r\n",
        "\r\n",
        "## 更多資訊\r\n",
        "\r\n",
        "有關表格辨識器服務的更多資訊，請參閱[表格辨識器文件](https://docs.microsoft.com/zh-tw/azure/cognitive-services/form-recognizer/index)"
      ],
      "metadata": {}
    }
  ],
  "metadata": {
    "language_info": {
      "name": "python",
      "version": "3.6.9",
      "mimetype": "text/x-python",
      "codemirror_mode": {
        "name": "ipython",
        "version": 3
      },
      "pygments_lexer": "ipython3",
      "nbconvert_exporter": "python",
      "file_extension": ".py"
    },
    "kernelspec": {
      "name": "python3-azureml",
      "language": "python",
      "display_name": "Python 3.6 - AzureML"
    },
    "kernel_info": {
      "name": "python3-azureml"
    },
    "nteract": {
      "version": "nteract-front-end@1.0.0"
    }
  },
  "nbformat": 4,
  "nbformat_minor": 2
}