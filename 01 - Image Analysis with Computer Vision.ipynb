{
  "cells": [
    {
      "cell_type": "markdown",
      "source": [
        "# 透過電腦視覺服務進行影像分析\r\n",
        "\r\n",
        "![一個傀儡程式正拿著一張圖片](./images/computer_vision.jpg)\r\n",
        "\r\n",
        "*電腦視覺*是人工智慧 (AI) 的一個分支，它探索 AI 系統的發展，該系統可以即時透過相機或透過分析影像或視訊「看」世界。這是因為數位影像本質上只是數值像素值陳列，並且我們可以用這些像素值作為*特徵*來訓練機器學習模型，該模型可以分類影像、偵測影像中的離散物件甚至生成以文字為基礎的相片摘要。\r\n",
        "\r\n",
        "## 使用電腦視覺認知服務\r\n",
        "\r\n",
        "Microsoft Azure 包含許多可以封裝一般 AI 函式的*認知服務*，包括一些可以幫助您組建電腦視覺解決方案的函式。\r\n",
        "\r\n",
        "*電腦視覺*認知服為我們在 Azure 中探索電腦視覺提供明顯的起點。該服務使用預先訓練的機器學習模型來分析影像和擷取與之相關的資訊。\r\n",
        "\r\n",
        "例如，假設 Northwind Traders 已經決定實作「智慧商店」，在智慧商店中 AI 服務監視商店，以便識別需要幫助的客戶，並指揮員工去幫助他們。透過使用電腦視覺服務，可以分析整個商店相機拍攝的影像，以提供對影像所描繪內容有意義的描述。\r\n",
        "\r\n",
        "### 建立認知服務資源\r\n",
        "\r\n",
        "我們首先在您的 Azure 訂用帳戶中建立**認知服務**資源：\r\n",
        "\r\n",
        "1.在其它瀏覽器索引標籤中，透過 https://portal.azure.com 開啟 Azure 入口網站，並用您的 Microsoft 帳戶登入。\r\n",
        "2.按一下 **[&#65291; 建立資源]** 按鈕，搜尋*認知服務*，並建立包含以下設定的**認知服務**資源：\r\n",
        "    - **訂用帳戶**： *您的 Azure 訂用帳戶*。\r\n",
        "    - **資源群組**： *選取或建立具有唯一名稱的資源群組*。\r\n",
        "    - **區域**： *選擇任一可用區域*： \r\n",
        "    - **名稱**： *輸入唯一名稱*。\r\n",
        "    - **定價層**： S0\r\n",
        "    - **我確認已閱讀通知並理解通知內容**： 已選取。\r\n",
        "3.等待部署完成。然後前往您的認知服務資源，在 **[概觀]** 頁面上，按一下連結以管理服務金鑰。您將需要端點和金鑰，以便從用戶端應用程式連線到您的認知服務資源。\r\n",
        "\r\n",
        "### 獲取您的認知服務資源之金鑰和端點\r\n",
        "\r\n",
        "若要使用您的認知服務資源，用戶端應用程式需要其端點和驗證金鑰：\r\n",
        "\r\n",
        "1.在 Azure 入口網站中，您的認知服務資源之**[金鑰和端點]**頁面上，複製您的資源之**金鑰 1**並將其貼上到下面的程式碼，取代 **YOUR_COG_KEY**。\r\n",
        "2.複製您的資源之**端點**並將其貼上到下面的程式碼，代替 **YOUR_COG_ENDPOINT**。\r\n",
        "3.透過選取儲存格，然後按一下 **[執行儲存格]**(&#9655;) 按鈕 (位於儲存格左側) 執行下方儲存格。"
      ],
      "metadata": {}
    },
    {
      "cell_type": "code",
      "source": [
        "cog_key = 'YOUR_COG_KEY'\n",
        "cog_endpoint = 'YOUR_COG_ENDPOINT'\n",
        "\n",
        "print('Ready to use cognitive services at {} using key {}'.format(cog_endpoint, cog_key))"
      ],
      "outputs": [],
      "execution_count": null,
      "metadata": {
        "gather": {
          "logged": 1599691487445
        }
      }
    },
    {
      "cell_type": "markdown",
      "source": [
        "現在您已經設定金鑰和端點，可以使用電腦視覺服務來分析影像。\r\n",
        "\r\n",
        "執行下列儲存格以獲取對於 *data/vision/store_cam1.jpg* 檔案中的影像之描述。"
      ],
      "metadata": {}
    },
    {
      "cell_type": "code",
      "source": [
        "from azure.cognitiveservices.vision.computervision import ComputerVisionClient\n",
        "from msrest.authentication import CognitiveServicesCredentials\n",
        "from python_code import vision\n",
        "import os\n",
        "%matplotlib inline\n",
        "\n",
        "# Get the path to an image file\r\n",
        "image_path = os.path.join('data', 'vision', 'store_cam1.jpg')\n",
        "\n",
        "# Get a client for the computer vision service\r\n",
        "computervision_client = ComputerVisionClient(cog_endpoint, CognitiveServicesCredentials(cog_key))\n",
        "\n",
        "# Get a description from the computer vision service\r\n",
        "image_stream = open(image_path, \"rb\")\n",
        "description = computervision_client.describe_image_in_stream(image_stream)\n",
        "\n",
        "# Display image and caption (code in helper_scripts/vision.py)\r\n",
        "vision.show_image_caption(image_path, description)\n"
      ],
      "outputs": [],
      "execution_count": null,
      "metadata": {
        "gather": {
          "logged": 1599691518279
        }
      }
    },
    {
      "cell_type": "markdown",
      "source": [
        "這似乎相當正確。\r\n",
        "\r\n",
        "讓我們嘗試另一張影像。"
      ],
      "metadata": {}
    },
    {
      "cell_type": "code",
      "source": [
        "# Get the path to an image file\r\n",
        "image_path = os.path.join('data', 'vision', 'store_cam2.jpg')\n",
        "\n",
        "# Get a description from the computer vision service\r\n",
        "image_stream = open(image_path, \"rb\")\n",
        "description = computervision_client.describe_image_in_stream(image_stream)\n",
        "\n",
        "# Display image and caption (code in helper_scripts/vision.py)\r\n",
        "vision.show_image_caption(image_path, description)"
      ],
      "outputs": [],
      "execution_count": null,
      "metadata": {
        "gather": {
          "logged": 1599691524330
        }
      }
    },
    {
      "cell_type": "markdown",
      "source": [
        "同樣，建議的字幕似乎非常正確。\r\n",
        "\r\n",
        "## 分析影像特徵\r\n",
        "\r\n",
        "到目前為止，您已使用電腦視覺服務為兩個影像生成了描述性字幕；但您還可以進行更多操作。電腦視覺服務提供可以擷取詳細資訊的分析功能，例如：\r\n",
        "\r\n",
        "- 影像中已偵測到的一般物件類型的位置。\r\n",
        "- 影像中人臉的位置和大概年齡。\r\n",
        "- 影像中是否包含任何「成人」、「色情」或是「血腥」內容。\r\n",
        "- 與資料庫中的影像關聯之相關標籤使其易於尋找。\r\n",
        "\r\n",
        "執行下列程式碼以分析顧客的影像。"
      ],
      "metadata": {}
    },
    {
      "cell_type": "code",
      "source": [
        "# Get the path to an image file\r\n",
        "image_path = os.path.join('data', 'vision', 'store_cam1.jpg')\n",
        "\n",
        "# Specify the features we want to analyze\r\n",
        "features = ['Description', 'Tags', 'Adult', 'Objects', 'Faces']\n",
        "\n",
        "# Get an analysis from the computer vision service\r\n",
        "image_stream = open(image_path, \"rb\")\n",
        "analysis = computervision_client.analyze_image_in_stream(image_stream, visual_features=features)\n",
        "\n",
        "# Show the results of analysis (code in helper_scripts/vision.py)\r\n",
        "vision.show_image_analysis(image_path, analysis)"
      ],
      "outputs": [],
      "execution_count": null,
      "metadata": {
        "gather": {
          "logged": 1599691530747
        }
      }
    },
    {
      "cell_type": "markdown",
      "source": [
        "## 了解更多資訊\r\n",
        "\r\n",
        "除了您在此 Notebook 中已探索的功能之外，電腦視覺認知服務還包括以下功能：\r\n",
        "\r\n",
        "- 識別影像中的名人。\r\n",
        "- 偵測影像中的品牌標誌。\r\n",
        "- 執行光學字元辨識 (OCR) 以讀取影像中的文字。\r\n",
        "\r\n",
        "若要深入了解電腦視覺認知服務，請參閱[電腦視覺文件](https://docs.microsoft.com/azure/cognitive-services/computer-vision/)\r\n"
      ],
      "metadata": {}
    }
  ],
  "metadata": {
    "language_info": {
      "name": "python",
      "version": "3.6.9",
      "mimetype": "text/x-python",
      "codemirror_mode": {
        "name": "ipython",
        "version": 3
      },
      "pygments_lexer": "ipython3",
      "nbconvert_exporter": "python",
      "file_extension": ".py"
    },
    "kernelspec": {
      "name": "python3-azureml",
      "language": "python",
      "display_name": "Python 3.6 - AzureML"
    },
    "kernel_info": {
      "name": "python3-azureml"
    },
    "nteract": {
      "version": "nteract-front-end@1.0.0"
    }
  },
  "nbformat": 4,
  "nbformat_minor": 2
}